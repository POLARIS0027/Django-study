{
  "nbformat": 4,
  "nbformat_minor": 0,
  "metadata": {
    "colab": {
      "name": "BaekJoon.ipynb",
      "provenance": [],
      "authorship_tag": "ABX9TyNS5RtepCID7ZYKkmIEVQMz",
      "include_colab_link": true
    },
    "kernelspec": {
      "name": "python3",
      "display_name": "Python 3"
    },
    "language_info": {
      "name": "python"
    }
  },
  "cells": [
    {
      "cell_type": "markdown",
      "metadata": {
        "id": "view-in-github",
        "colab_type": "text"
      },
      "source": [
        "<a href=\"https://colab.research.google.com/github/POLARIS0027/Django-study/blob/main/BaekJoon.ipynb\" target=\"_parent\"><img src=\"https://colab.research.google.com/assets/colab-badge.svg\" alt=\"Open In Colab\"/></a>"
      ]
    },
    {
      "cell_type": "code",
      "execution_count": null,
      "metadata": {
        "colab": {
          "base_uri": "https://localhost:8080/"
        },
        "id": "iO81mCCSSjTn",
        "outputId": "dbd3c11b-5ae3-4658-9295-f702d837cd61"
      },
      "outputs": [
        {
          "output_type": "stream",
          "name": "stdout",
          "text": [
            "23 30\n",
            "30\n",
            "24 0\n",
            "24 0\n"
          ]
        }
      ],
      "source": [
        "hour, min = map(int, input().split())\n",
        "time = int(input())\n",
        "\n",
        "timeh = time // 60\n",
        "timem = time % 60\n",
        "\n",
        "ansh = hour + timeh \n",
        "ansm = min + timem \n",
        "\n",
        "if ansm >= 60 and ansh < 24:\n",
        "  ansh = ansh +1\n",
        "  ansm = ansm - 60 \n",
        "  print(f'{ansh} {ansm}')\n",
        "elif ansm >= 60 and ansh >= 24:\n",
        "  ansh = ansh +1\n",
        "  ansh = ansh - 24\n",
        "  ansm = ansm - 60 \n",
        "  print(f'{ansh} {ansm}')\n",
        "else:\n",
        "  print(f'{ansh} {ansm}')\n",
        "\n",
        "\n",
        "\n",
        "\n",
        "\n",
        "\n",
        "\n"
      ]
    },
    {
      "cell_type": "code",
      "source": [
        "hour, min = map(int, input().split())\n",
        "time = int(input())\n",
        "\n",
        "timeh = time // 60\n",
        "timem = time % 60\n",
        "\n",
        "ansh = hour + timeh \n",
        "ansm = min + timem \n",
        "\n",
        "if ansm >= 60:\n",
        "  ansh = ansh +1 \n",
        "  if ansh <24:\n",
        "    ansm = ansm -60\n",
        "    print(f'{ansh} {ansm}')\n",
        "  elif ansh >= 24:\n",
        "    ansh = ansh -24\n",
        "    ansm = ansm - 60 \n",
        "    print(f'{ansh} {ansm}')\n",
        "elif ansm < 60 and ansh  >= 24:\n",
        "  ansh = ansh -24\n",
        "  print(f'{ansh} {ansm}')\n",
        "else:\n",
        "  print(f'{ansh} {ansm}')\n"
      ],
      "metadata": {
        "colab": {
          "base_uri": "https://localhost:8080/"
        },
        "id": "GeajeH5XbUE7",
        "outputId": "1693add8-cb2e-4f25-964a-42c6ee1ea668"
      },
      "execution_count": null,
      "outputs": [
        {
          "output_type": "stream",
          "name": "stdout",
          "text": [
            "14 30\n",
            "50\n",
            "15 20\n"
          ]
        }
      ]
    },
    {
      "cell_type": "code",
      "source": [
        "a, b, c  = map(int, input().split())\n",
        "dice = [a, b, c]\n",
        "dice.sort(reverse=True)\n",
        "setdice = set(dice)\n",
        "if len(setdice) == 1 :\n",
        "  print((dice[0]*1000)+10000)\n",
        "elif len(setdice) == 2 :\n",
        "  alpha = dice[0]\n",
        "  beta = dice[2]\n",
        "  countalpha = dice.count(alpha)\n",
        "  countbeta = dice.count(beta)\n",
        "  if countalpha > countbeta :\n",
        "    print(1000+(alpha*100))\n",
        "  else:\n",
        "    print(1000+(beta*100))\n",
        "else:\n",
        "  print(dice[0]*100)"
      ],
      "metadata": {
        "id": "QiyYmnLreL23",
        "colab": {
          "base_uri": "https://localhost:8080/"
        },
        "outputId": "cb825ea0-b5db-445e-b3de-3f468a1ae97e"
      },
      "execution_count": 9,
      "outputs": [
        {
          "output_type": "stream",
          "name": "stdout",
          "text": [
            "6 2 5\n",
            "600\n"
          ]
        }
      ]
    },
    {
      "cell_type": "code",
      "source": [
        "N = int(input())\n",
        "for i in range(1,10):\n",
        "  print(f'{N} * {i} = {N*i}')"
      ],
      "metadata": {
        "colab": {
          "base_uri": "https://localhost:8080/"
        },
        "id": "twR-l-NGKorq",
        "outputId": "c5b91231-2222-48d1-8e8c-5b8e4a32496e"
      },
      "execution_count": 11,
      "outputs": [
        {
          "output_type": "stream",
          "name": "stdout",
          "text": [
            "2\n",
            "2 * 1 = 2\n",
            "2 * 2 = 4\n",
            "2 * 3 = 6\n",
            "2 * 4 = 8\n",
            "2 * 5 = 10\n",
            "2 * 6 = 12\n",
            "2 * 7 = 14\n",
            "2 * 8 = 16\n",
            "2 * 9 = 18\n"
          ]
        }
      ]
    },
    {
      "cell_type": "code",
      "source": [
        ""
      ],
      "metadata": {
        "id": "kDnk6-qeN08b"
      },
      "execution_count": null,
      "outputs": []
    },
    {
      "cell_type": "code",
      "source": [
        ""
      ],
      "metadata": {
        "id": "6fsUSrtsNgsp"
      },
      "execution_count": null,
      "outputs": []
    }
  ]
}