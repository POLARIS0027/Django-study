{
  "nbformat": 4,
  "nbformat_minor": 0,
  "metadata": {
    "colab": {
      "name": "BaekJoon.ipynb",
      "provenance": [],
      "collapsed_sections": [],
      "authorship_tag": "ABX9TyNUlzCGuPnWYFSoee7Q7Ecu",
      "include_colab_link": true
    },
    "kernelspec": {
      "name": "python3",
      "display_name": "Python 3"
    },
    "language_info": {
      "name": "python"
    }
  },
  "cells": [
    {
      "cell_type": "markdown",
      "metadata": {
        "id": "view-in-github",
        "colab_type": "text"
      },
      "source": [
        "<a href=\"https://colab.research.google.com/github/POLARIS0027/Django-study/blob/main/BaekJoon.ipynb\" target=\"_parent\"><img src=\"https://colab.research.google.com/assets/colab-badge.svg\" alt=\"Open In Colab\"/></a>"
      ]
    },
    {
      "cell_type": "code",
      "execution_count": null,
      "metadata": {
        "colab": {
          "base_uri": "https://localhost:8080/"
        },
        "id": "iO81mCCSSjTn",
        "outputId": "dbd3c11b-5ae3-4658-9295-f702d837cd61"
      },
      "outputs": [
        {
          "output_type": "stream",
          "name": "stdout",
          "text": [
            "23 30\n",
            "30\n",
            "24 0\n",
            "24 0\n"
          ]
        }
      ],
      "source": [
        "hour, min = map(int, input().split())\n",
        "time = int(input())\n",
        "\n",
        "timeh = time // 60\n",
        "timem = time % 60\n",
        "\n",
        "ansh = hour + timeh \n",
        "ansm = min + timem \n",
        "\n",
        "if ansm >= 60 and ansh < 24:\n",
        "  ansh = ansh +1\n",
        "  ansm = ansm - 60 \n",
        "  print(f'{ansh} {ansm}')\n",
        "elif ansm >= 60 and ansh >= 24:\n",
        "  ansh = ansh +1\n",
        "  ansh = ansh - 24\n",
        "  ansm = ansm - 60 \n",
        "  print(f'{ansh} {ansm}')\n",
        "else:\n",
        "  print(f'{ansh} {ansm}')\n",
        "\n",
        "\n",
        "\n",
        "\n",
        "\n",
        "\n",
        "\n"
      ]
    },
    {
      "cell_type": "code",
      "source": [
        "hour, min = map(int, input().split())\n",
        "time = int(input())\n",
        "\n",
        "timeh = time // 60\n",
        "timem = time % 60\n",
        "\n",
        "ansh = hour + timeh \n",
        "ansm = min + timem \n",
        "\n",
        "if ansm >= 60:\n",
        "  ansh = ansh +1 \n",
        "  if ansh <24:\n",
        "    ansm = ansm -60\n",
        "    print(f'{ansh} {ansm}')\n",
        "  elif ansh >= 24:\n",
        "    ansh = ansh -24\n",
        "    ansm = ansm - 60 \n",
        "    print(f'{ansh} {ansm}')\n",
        "elif ansm < 60 and ansh  >= 24:\n",
        "  ansh = ansh -24\n",
        "  print(f'{ansh} {ansm}')\n",
        "else:\n",
        "  print(f'{ansh} {ansm}')\n"
      ],
      "metadata": {
        "colab": {
          "base_uri": "https://localhost:8080/"
        },
        "id": "GeajeH5XbUE7",
        "outputId": "1693add8-cb2e-4f25-964a-42c6ee1ea668"
      },
      "execution_count": null,
      "outputs": [
        {
          "output_type": "stream",
          "name": "stdout",
          "text": [
            "14 30\n",
            "50\n",
            "15 20\n"
          ]
        }
      ]
    },
    {
      "cell_type": "code",
      "source": [
        "a, b, c  = map(int, input().split())\n",
        "dice = [a, b, c]\n",
        "dice.sort(reverse=True)\n",
        "setdice = set(dice)\n",
        "if len(setdice) == 1 :\n",
        "  print((dice[0]*1000)+10000)\n",
        "elif len(setdice) == 2 :\n",
        "  alpha = dice[0]\n",
        "  beta = dice[2]\n",
        "  countalpha = dice.count(alpha)\n",
        "  countbeta = dice.count(beta)\n",
        "  if countalpha > countbeta :\n",
        "    print(1000+(alpha*100))\n",
        "  else:\n",
        "    print(1000+(beta*100))\n",
        "else:\n",
        "  print(dice[0]*100)"
      ],
      "metadata": {
        "id": "QiyYmnLreL23",
        "colab": {
          "base_uri": "https://localhost:8080/"
        },
        "outputId": "cb825ea0-b5db-445e-b3de-3f468a1ae97e"
      },
      "execution_count": null,
      "outputs": [
        {
          "output_type": "stream",
          "name": "stdout",
          "text": [
            "6 2 5\n",
            "600\n"
          ]
        }
      ]
    },
    {
      "cell_type": "code",
      "source": [
        "N = int(input())\n",
        "for i in range(1,10):\n",
        "  print(f'{N} * {i} = {N*i}')"
      ],
      "metadata": {
        "colab": {
          "base_uri": "https://localhost:8080/"
        },
        "id": "twR-l-NGKorq",
        "outputId": "c5b91231-2222-48d1-8e8c-5b8e4a32496e"
      },
      "execution_count": null,
      "outputs": [
        {
          "output_type": "stream",
          "name": "stdout",
          "text": [
            "2\n",
            "2 * 1 = 2\n",
            "2 * 2 = 4\n",
            "2 * 3 = 6\n",
            "2 * 4 = 8\n",
            "2 * 5 = 10\n",
            "2 * 6 = 12\n",
            "2 * 7 = 14\n",
            "2 * 8 = 16\n",
            "2 * 9 = 18\n"
          ]
        }
      ]
    },
    {
      "cell_type": "code",
      "source": [
        ""
      ],
      "metadata": {
        "id": "kDnk6-qeN08b"
      },
      "execution_count": null,
      "outputs": []
    },
    {
      "cell_type": "code",
      "source": [
        "testnum = int(input())\n",
        "for _ in range(testnum):\n",
        "  a, b = map(int, input().split())\n",
        "  result = a + b\n",
        "  print(result)"
      ],
      "metadata": {
        "id": "6fsUSrtsNgsp"
      },
      "execution_count": null,
      "outputs": []
    },
    {
      "cell_type": "code",
      "source": [
        "n = int(input())\n",
        "result = 0 \n",
        "for i in range (1,n+1):\n",
        "  result = result + i \n",
        "\n",
        "print(result)\n",
        "  \n",
        "  "
      ],
      "metadata": {
        "colab": {
          "base_uri": "https://localhost:8080/"
        },
        "id": "8HcIuXcxPU7z",
        "outputId": "d0dc772a-b0cd-4eb0-863d-9d4756b23c1e"
      },
      "execution_count": null,
      "outputs": [
        {
          "output_type": "stream",
          "name": "stdout",
          "text": [
            "10\n",
            "55\n"
          ]
        }
      ]
    },
    {
      "cell_type": "code",
      "source": [
        "t = int(input())\n",
        "for i in range(1,t+1):\n",
        "  print(i)"
      ],
      "metadata": {
        "colab": {
          "base_uri": "https://localhost:8080/"
        },
        "id": "m95w1xVHWdcQ",
        "outputId": "8a3115f5-0def-4c00-8e8e-83c199ad815c"
      },
      "execution_count": null,
      "outputs": [
        {
          "output_type": "stream",
          "name": "stdout",
          "text": [
            "5\n",
            "1\n",
            "2\n",
            "3\n",
            "4\n",
            "5\n"
          ]
        }
      ]
    },
    {
      "cell_type": "code",
      "source": [
        "t = int(input())\n",
        "for i in range(t,0,-1):\n",
        "  print(i)"
      ],
      "metadata": {
        "colab": {
          "base_uri": "https://localhost:8080/"
        },
        "id": "G11-wM1DaWSC",
        "outputId": "c3757bda-3667-4ecf-86ea-cb51964d844f"
      },
      "execution_count": null,
      "outputs": [
        {
          "output_type": "stream",
          "name": "stdout",
          "text": [
            "5\n",
            "5\n",
            "4\n",
            "3\n",
            "2\n",
            "1\n"
          ]
        }
      ]
    },
    {
      "cell_type": "code",
      "source": [
        "t = int(input())\n",
        "case = 0 \n",
        "for i in range(t):\n",
        "  case += 1 \n",
        "  a, b = map(int, input().split())\n",
        "  result = a + b\n",
        "  print(f'Case #{case}: {result}')\n",
        "\n"
      ],
      "metadata": {
        "colab": {
          "base_uri": "https://localhost:8080/"
        },
        "id": "QU8dy4RKa49w",
        "outputId": "3b3a6e61-2b89-4413-b000-d2db8e0f8795"
      },
      "execution_count": null,
      "outputs": [
        {
          "output_type": "stream",
          "name": "stdout",
          "text": [
            "5\n",
            "1 1\n",
            "Case #1: 2\n",
            "2 3 \n",
            "Case #2: 5\n",
            "3 4\n",
            "Case #3: 7\n",
            "9 8\n",
            "Case #4: 17\n",
            "5 2\n",
            "Case #5: 7\n"
          ]
        }
      ]
    },
    {
      "cell_type": "code",
      "source": [
        "t = int(input())\n",
        "case = 0 \n",
        "for i in range(t):\n",
        "  case += 1 \n",
        "  a, b = map(int, input().split())\n",
        "  result = a + b\n",
        "  print(f'Case #{case}: {a} + {b} = {result}')\n"
      ],
      "metadata": {
        "id": "2kO3EBNybh7B"
      },
      "execution_count": null,
      "outputs": []
    },
    {
      "cell_type": "code",
      "source": [
        "t = int(input())\n",
        "st = 0 \n",
        "for i in range(t,0,-1):\n",
        "  st = st +1\n",
        "  blnk =' '\n",
        "  result = blnk*(i-1)+('*'*st)\n",
        "  print(result)"
      ],
      "metadata": {
        "colab": {
          "base_uri": "https://localhost:8080/"
        },
        "id": "LO98jhCJcXgd",
        "outputId": "9f56350a-dada-41eb-bbed-4f328aadbf83"
      },
      "execution_count": null,
      "outputs": [
        {
          "output_type": "stream",
          "name": "stdout",
          "text": [
            "5\n",
            "    *\n",
            "   **\n",
            "  ***\n",
            " ****\n",
            "*****\n"
          ]
        }
      ]
    },
    {
      "cell_type": "code",
      "source": [
        "a, b = map(int, input().split())\n",
        "lst = list(map(int, input().split()))\n",
        "result = []\n",
        "for i in lst:\n",
        "  if i < b:\n",
        "    print(i,end=' ')\n",
        "else:\n",
        "    pass\n"
      ],
      "metadata": {
        "colab": {
          "base_uri": "https://localhost:8080/"
        },
        "id": "oVoBN3GYcgIu",
        "outputId": "97180033-3216-4585-c8e0-7bcf19c101c7"
      },
      "execution_count": null,
      "outputs": [
        {
          "output_type": "stream",
          "name": "stdout",
          "text": [
            "10 5\n",
            "1 10 4 9 2 3 8 5 7 6\n",
            "1 4 2 3 "
          ]
        }
      ]
    },
    {
      "cell_type": "code",
      "source": [
        ""
      ],
      "metadata": {
        "id": "lrYbPgBnfIjU"
      },
      "execution_count": null,
      "outputs": []
    }
  ]
}